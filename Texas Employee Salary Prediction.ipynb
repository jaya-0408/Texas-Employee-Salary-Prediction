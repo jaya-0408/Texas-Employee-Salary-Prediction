{
 "cells": [
  {
   "cell_type": "markdown",
   "metadata": {},
   "source": [
    "### Importing the necessary libraries and dataset"
   ]
  },
  {
   "cell_type": "code",
   "execution_count": 1,
   "metadata": {},
   "outputs": [],
   "source": [
    "import pandas as pd\n",
    "import numpy as np\n",
    "import matplotlib.pyplot as plt\n",
    "import seaborn as sns\n",
    "\n",
    "%matplotlib inline\n",
    "\n",
    "import warnings\n",
    "warnings.filterwarnings(\"ignore\")\n"
   ]
  },
  {
   "cell_type": "code",
   "execution_count": 2,
   "metadata": {},
   "outputs": [],
   "source": [
    "df = pd.read_csv(r\"Texas Salary.csv\")\n",
    "pd.set_option(\"display.max_columns\",None)"
   ]
  },
  {
   "cell_type": "code",
   "execution_count": 3,
   "metadata": {},
   "outputs": [
    {
     "data": {
      "text/html": [
       "<div>\n",
       "<style scoped>\n",
       "    .dataframe tbody tr th:only-of-type {\n",
       "        vertical-align: middle;\n",
       "    }\n",
       "\n",
       "    .dataframe tbody tr th {\n",
       "        vertical-align: top;\n",
       "    }\n",
       "\n",
       "    .dataframe thead th {\n",
       "        text-align: right;\n",
       "    }\n",
       "</style>\n",
       "<table border=\"1\" class=\"dataframe\">\n",
       "  <thead>\n",
       "    <tr style=\"text-align: right;\">\n",
       "      <th></th>\n",
       "      <th>AGENCY</th>\n",
       "      <th>AGENCY NAME</th>\n",
       "      <th>LAST NAME</th>\n",
       "      <th>FIRST NAME</th>\n",
       "      <th>MI</th>\n",
       "      <th>CLASS CODE</th>\n",
       "      <th>CLASS TITLE</th>\n",
       "      <th>ETHNICITY</th>\n",
       "      <th>GENDER</th>\n",
       "      <th>STATUS</th>\n",
       "      <th>EMPLOY DATE</th>\n",
       "      <th>HRLY RATE</th>\n",
       "      <th>HRS PER WK</th>\n",
       "      <th>MONTHLY</th>\n",
       "      <th>ANNUAL</th>\n",
       "      <th>STATE NUMBER</th>\n",
       "      <th>duplicated</th>\n",
       "      <th>multiple_full_time_jobs</th>\n",
       "      <th>combined_multiple_jobs</th>\n",
       "      <th>summed_annual_salary</th>\n",
       "      <th>hide_from_search</th>\n",
       "    </tr>\n",
       "  </thead>\n",
       "  <tbody>\n",
       "    <tr>\n",
       "      <th>0</th>\n",
       "      <td>241</td>\n",
       "      <td>COMPTROLLER OF PUBLIC ACCOUNTS, JUDICIARY SECT...</td>\n",
       "      <td>RUCKER</td>\n",
       "      <td>MORTON</td>\n",
       "      <td>V</td>\n",
       "      <td>JD25</td>\n",
       "      <td>JUDGE, RETIRED                                ...</td>\n",
       "      <td>WHITE</td>\n",
       "      <td>MALE</td>\n",
       "      <td>URP - UNCLASSIFIED REGULAR PART-TIME</td>\n",
       "      <td>02/18/88</td>\n",
       "      <td>75.96150</td>\n",
       "      <td>29.0</td>\n",
       "      <td>9545.82</td>\n",
       "      <td>114549.84</td>\n",
       "      <td>127717</td>\n",
       "      <td>True</td>\n",
       "      <td>NaN</td>\n",
       "      <td>NaN</td>\n",
       "      <td>131407.08</td>\n",
       "      <td>NaN</td>\n",
       "    </tr>\n",
       "    <tr>\n",
       "      <th>1</th>\n",
       "      <td>212</td>\n",
       "      <td>OFFICE OF COURT ADMINISTRATION                ...</td>\n",
       "      <td>RUCKER</td>\n",
       "      <td>MORTON</td>\n",
       "      <td>V</td>\n",
       "      <td>3524</td>\n",
       "      <td>GENERAL COUNSEL IV                            ...</td>\n",
       "      <td>WHITE</td>\n",
       "      <td>MALE</td>\n",
       "      <td>CTP - CLASSIFIED TEMPORARY PART-TIME</td>\n",
       "      <td>02/01/15</td>\n",
       "      <td>81.04454</td>\n",
       "      <td>4.0</td>\n",
       "      <td>1404.77</td>\n",
       "      <td>16857.24</td>\n",
       "      <td>127717</td>\n",
       "      <td>True</td>\n",
       "      <td>NaN</td>\n",
       "      <td>NaN</td>\n",
       "      <td>NaN</td>\n",
       "      <td>True</td>\n",
       "    </tr>\n",
       "    <tr>\n",
       "      <th>2</th>\n",
       "      <td>241</td>\n",
       "      <td>COMPTROLLER OF PUBLIC ACCOUNTS, JUDICIARY SECT...</td>\n",
       "      <td>SPECIA JR</td>\n",
       "      <td>JOHN</td>\n",
       "      <td>J</td>\n",
       "      <td>JD25</td>\n",
       "      <td>JUDGE, RETIRED                                ...</td>\n",
       "      <td>WHITE</td>\n",
       "      <td>MALE</td>\n",
       "      <td>URP - UNCLASSIFIED REGULAR PART-TIME</td>\n",
       "      <td>02/01/20</td>\n",
       "      <td>75.96150</td>\n",
       "      <td>29.0</td>\n",
       "      <td>9545.82</td>\n",
       "      <td>114549.84</td>\n",
       "      <td>59115</td>\n",
       "      <td>True</td>\n",
       "      <td>NaN</td>\n",
       "      <td>NaN</td>\n",
       "      <td>131407.08</td>\n",
       "      <td>NaN</td>\n",
       "    </tr>\n",
       "    <tr>\n",
       "      <th>3</th>\n",
       "      <td>212</td>\n",
       "      <td>OFFICE OF COURT ADMINISTRATION                ...</td>\n",
       "      <td>SPECIA JR</td>\n",
       "      <td>JOHN</td>\n",
       "      <td>J</td>\n",
       "      <td>3524</td>\n",
       "      <td>GENERAL COUNSEL IV                            ...</td>\n",
       "      <td>WHITE</td>\n",
       "      <td>MALE</td>\n",
       "      <td>CTP - CLASSIFIED TEMPORARY PART-TIME</td>\n",
       "      <td>09/01/18</td>\n",
       "      <td>81.04453</td>\n",
       "      <td>4.0</td>\n",
       "      <td>1404.77</td>\n",
       "      <td>16857.24</td>\n",
       "      <td>59115</td>\n",
       "      <td>True</td>\n",
       "      <td>NaN</td>\n",
       "      <td>NaN</td>\n",
       "      <td>NaN</td>\n",
       "      <td>True</td>\n",
       "    </tr>\n",
       "    <tr>\n",
       "      <th>4</th>\n",
       "      <td>696</td>\n",
       "      <td>TEXAS DEPARTMENT OF CRIMINAL JUSTICE          ...</td>\n",
       "      <td>ONTIVEROS</td>\n",
       "      <td>ESTHER</td>\n",
       "      <td></td>\n",
       "      <td>4504</td>\n",
       "      <td>CORREC  OFFICER IV                            ...</td>\n",
       "      <td>HISPANIC</td>\n",
       "      <td>FEMALE</td>\n",
       "      <td>CRF - CLASSIFIED REGULAR FULL-TIME</td>\n",
       "      <td>06/29/20</td>\n",
       "      <td>0.00000</td>\n",
       "      <td>40.0</td>\n",
       "      <td>3284.27</td>\n",
       "      <td>39411.24</td>\n",
       "      <td>165030</td>\n",
       "      <td>True</td>\n",
       "      <td>1.0</td>\n",
       "      <td>NaN</td>\n",
       "      <td>NaN</td>\n",
       "      <td>NaN</td>\n",
       "    </tr>\n",
       "  </tbody>\n",
       "</table>\n",
       "</div>"
      ],
      "text/plain": [
       "   AGENCY                                        AGENCY NAME  \\\n",
       "0     241  COMPTROLLER OF PUBLIC ACCOUNTS, JUDICIARY SECT...   \n",
       "1     212  OFFICE OF COURT ADMINISTRATION                ...   \n",
       "2     241  COMPTROLLER OF PUBLIC ACCOUNTS, JUDICIARY SECT...   \n",
       "3     212  OFFICE OF COURT ADMINISTRATION                ...   \n",
       "4     696  TEXAS DEPARTMENT OF CRIMINAL JUSTICE          ...   \n",
       "\n",
       "                        LAST NAME                      FIRST NAME MI  \\\n",
       "0  RUCKER                          MORTON                          V   \n",
       "1  RUCKER                          MORTON                          V   \n",
       "2  SPECIA JR                       JOHN                            J   \n",
       "3  SPECIA JR                       JOHN                            J   \n",
       "4  ONTIVEROS                       ESTHER                              \n",
       "\n",
       "  CLASS CODE                                        CLASS TITLE  \\\n",
       "0   JD25      JUDGE, RETIRED                                ...   \n",
       "1   3524      GENERAL COUNSEL IV                            ...   \n",
       "2   JD25      JUDGE, RETIRED                                ...   \n",
       "3   3524      GENERAL COUNSEL IV                            ...   \n",
       "4   4504      CORREC  OFFICER IV                            ...   \n",
       "\n",
       "         ETHNICITY           GENDER                                    STATUS  \\\n",
       "0  WHITE            MALE             URP - UNCLASSIFIED REGULAR PART-TIME       \n",
       "1  WHITE            MALE             CTP - CLASSIFIED TEMPORARY PART-TIME       \n",
       "2  WHITE            MALE             URP - UNCLASSIFIED REGULAR PART-TIME       \n",
       "3  WHITE            MALE             CTP - CLASSIFIED TEMPORARY PART-TIME       \n",
       "4  HISPANIC         FEMALE           CRF - CLASSIFIED REGULAR FULL-TIME         \n",
       "\n",
       "  EMPLOY DATE  HRLY RATE  HRS PER WK  MONTHLY     ANNUAL  STATE NUMBER  \\\n",
       "0    02/18/88   75.96150        29.0  9545.82  114549.84        127717   \n",
       "1    02/01/15   81.04454         4.0  1404.77   16857.24        127717   \n",
       "2    02/01/20   75.96150        29.0  9545.82  114549.84         59115   \n",
       "3    09/01/18   81.04453         4.0  1404.77   16857.24         59115   \n",
       "4    06/29/20    0.00000        40.0  3284.27   39411.24        165030   \n",
       "\n",
       "  duplicated  multiple_full_time_jobs combined_multiple_jobs  \\\n",
       "0       True                      NaN                    NaN   \n",
       "1       True                      NaN                    NaN   \n",
       "2       True                      NaN                    NaN   \n",
       "3       True                      NaN                    NaN   \n",
       "4       True                      1.0                    NaN   \n",
       "\n",
       "   summed_annual_salary hide_from_search  \n",
       "0             131407.08              NaN  \n",
       "1                   NaN             True  \n",
       "2             131407.08              NaN  \n",
       "3                   NaN             True  \n",
       "4                   NaN              NaN  "
      ]
     },
     "execution_count": 3,
     "metadata": {},
     "output_type": "execute_result"
    }
   ],
   "source": [
    "df.head()"
   ]
  },
  {
   "cell_type": "markdown",
   "metadata": {},
   "source": [
    "### Getting the Information of the dataset"
   ]
  },
  {
   "cell_type": "code",
   "execution_count": 4,
   "metadata": {},
   "outputs": [
    {
     "name": "stdout",
     "output_type": "stream",
     "text": [
      "<class 'pandas.core.frame.DataFrame'>\n",
      "RangeIndex: 149481 entries, 0 to 149480\n",
      "Data columns (total 21 columns):\n",
      " #   Column                   Non-Null Count   Dtype  \n",
      "---  ------                   --------------   -----  \n",
      " 0   AGENCY                   149481 non-null  int64  \n",
      " 1   AGENCY NAME              149481 non-null  object \n",
      " 2   LAST NAME                149481 non-null  object \n",
      " 3   FIRST NAME               149481 non-null  object \n",
      " 4   MI                       149481 non-null  object \n",
      " 5   CLASS CODE               149481 non-null  object \n",
      " 6   CLASS TITLE              149481 non-null  object \n",
      " 7   ETHNICITY                149481 non-null  object \n",
      " 8   GENDER                   149481 non-null  object \n",
      " 9   STATUS                   149481 non-null  object \n",
      " 10  EMPLOY DATE              149481 non-null  object \n",
      " 11  HRLY RATE                149481 non-null  float64\n",
      " 12  HRS PER WK               149481 non-null  float64\n",
      " 13  MONTHLY                  149481 non-null  float64\n",
      " 14  ANNUAL                   149481 non-null  float64\n",
      " 15  STATE NUMBER             149481 non-null  int64  \n",
      " 16  duplicated               143 non-null     object \n",
      " 17  multiple_full_time_jobs  14 non-null      float64\n",
      " 18  combined_multiple_jobs   97 non-null      object \n",
      " 19  summed_annual_salary     16 non-null      float64\n",
      " 20  hide_from_search         16 non-null      object \n",
      "dtypes: float64(6), int64(2), object(13)\n",
      "memory usage: 23.9+ MB\n"
     ]
    }
   ],
   "source": [
    "df.info()"
   ]
  },
  {
   "cell_type": "code",
   "execution_count": 5,
   "metadata": {},
   "outputs": [
    {
     "data": {
      "text/plain": [
       "(149481, 21)"
      ]
     },
     "execution_count": 5,
     "metadata": {},
     "output_type": "execute_result"
    }
   ],
   "source": [
    "df.shape"
   ]
  },
  {
   "cell_type": "markdown",
   "metadata": {},
   "source": [
    "### Checking for the null values"
   ]
  },
  {
   "cell_type": "code",
   "execution_count": 6,
   "metadata": {},
   "outputs": [
    {
     "data": {
      "text/plain": [
       "AGENCY                          0\n",
       "AGENCY NAME                     0\n",
       "LAST NAME                       0\n",
       "FIRST NAME                      0\n",
       "MI                              0\n",
       "CLASS CODE                      0\n",
       "CLASS TITLE                     0\n",
       "ETHNICITY                       0\n",
       "GENDER                          0\n",
       "STATUS                          0\n",
       "EMPLOY DATE                     0\n",
       "HRLY RATE                       0\n",
       "HRS PER WK                      0\n",
       "MONTHLY                         0\n",
       "ANNUAL                          0\n",
       "STATE NUMBER                    0\n",
       "duplicated                 149338\n",
       "multiple_full_time_jobs    149467\n",
       "combined_multiple_jobs     149384\n",
       "summed_annual_salary       149465\n",
       "hide_from_search           149465\n",
       "dtype: int64"
      ]
     },
     "execution_count": 6,
     "metadata": {},
     "output_type": "execute_result"
    }
   ],
   "source": [
    "df.isnull().sum()"
   ]
  },
  {
   "cell_type": "markdown",
   "metadata": {},
   "source": [
    "The last 5 columns, namely \"duplicated\", \"multiple_full_time_jobs\", \"combined_multiple_jobs\", \"summed_annual_salary\", \"hide_from_search\", are missing more than 90% of the values"
   ]
  },
  {
   "cell_type": "markdown",
   "metadata": {},
   "source": [
    "### Statistical Analysis"
   ]
  },
  {
   "cell_type": "code",
   "execution_count": 7,
   "metadata": {
    "scrolled": true
   },
   "outputs": [
    {
     "data": {
      "text/html": [
       "<div>\n",
       "<style scoped>\n",
       "    .dataframe tbody tr th:only-of-type {\n",
       "        vertical-align: middle;\n",
       "    }\n",
       "\n",
       "    .dataframe tbody tr th {\n",
       "        vertical-align: top;\n",
       "    }\n",
       "\n",
       "    .dataframe thead th {\n",
       "        text-align: right;\n",
       "    }\n",
       "</style>\n",
       "<table border=\"1\" class=\"dataframe\">\n",
       "  <thead>\n",
       "    <tr style=\"text-align: right;\">\n",
       "      <th></th>\n",
       "      <th>AGENCY</th>\n",
       "      <th>HRLY RATE</th>\n",
       "      <th>HRS PER WK</th>\n",
       "      <th>MONTHLY</th>\n",
       "      <th>ANNUAL</th>\n",
       "      <th>STATE NUMBER</th>\n",
       "      <th>multiple_full_time_jobs</th>\n",
       "      <th>summed_annual_salary</th>\n",
       "    </tr>\n",
       "  </thead>\n",
       "  <tbody>\n",
       "    <tr>\n",
       "      <th>count</th>\n",
       "      <td>149481.000000</td>\n",
       "      <td>149481.000000</td>\n",
       "      <td>149481.000000</td>\n",
       "      <td>149481.000000</td>\n",
       "      <td>149481.000000</td>\n",
       "      <td>1.494810e+05</td>\n",
       "      <td>14.0</td>\n",
       "      <td>16.000000</td>\n",
       "    </tr>\n",
       "    <tr>\n",
       "      <th>mean</th>\n",
       "      <td>545.736288</td>\n",
       "      <td>0.346488</td>\n",
       "      <td>39.714918</td>\n",
       "      <td>4226.184248</td>\n",
       "      <td>50714.210973</td>\n",
       "      <td>5.651930e+05</td>\n",
       "      <td>1.0</td>\n",
       "      <td>74303.955000</td>\n",
       "    </tr>\n",
       "    <tr>\n",
       "      <th>std</th>\n",
       "      <td>139.057691</td>\n",
       "      <td>4.211485</td>\n",
       "      <td>2.323855</td>\n",
       "      <td>2093.111691</td>\n",
       "      <td>25117.340292</td>\n",
       "      <td>4.786212e+05</td>\n",
       "      <td>0.0</td>\n",
       "      <td>51925.944282</td>\n",
       "    </tr>\n",
       "    <tr>\n",
       "      <th>min</th>\n",
       "      <td>101.000000</td>\n",
       "      <td>0.000000</td>\n",
       "      <td>1.000000</td>\n",
       "      <td>50.000000</td>\n",
       "      <td>600.000000</td>\n",
       "      <td>1.000000e+00</td>\n",
       "      <td>1.0</td>\n",
       "      <td>18000.000000</td>\n",
       "    </tr>\n",
       "    <tr>\n",
       "      <th>25%</th>\n",
       "      <td>529.000000</td>\n",
       "      <td>0.000000</td>\n",
       "      <td>40.000000</td>\n",
       "      <td>3019.840000</td>\n",
       "      <td>36238.080000</td>\n",
       "      <td>1.133340e+05</td>\n",
       "      <td>1.0</td>\n",
       "      <td>32962.500000</td>\n",
       "    </tr>\n",
       "    <tr>\n",
       "      <th>50%</th>\n",
       "      <td>530.000000</td>\n",
       "      <td>0.000000</td>\n",
       "      <td>40.000000</td>\n",
       "      <td>3720.170000</td>\n",
       "      <td>44642.040000</td>\n",
       "      <td>3.463730e+05</td>\n",
       "      <td>1.0</td>\n",
       "      <td>48063.300000</td>\n",
       "    </tr>\n",
       "    <tr>\n",
       "      <th>75%</th>\n",
       "      <td>696.000000</td>\n",
       "      <td>0.000000</td>\n",
       "      <td>40.000000</td>\n",
       "      <td>4865.810000</td>\n",
       "      <td>58389.720000</td>\n",
       "      <td>1.100500e+06</td>\n",
       "      <td>1.0</td>\n",
       "      <td>123751.770000</td>\n",
       "    </tr>\n",
       "    <tr>\n",
       "      <th>max</th>\n",
       "      <td>930.000000</td>\n",
       "      <td>117.788480</td>\n",
       "      <td>70.000000</td>\n",
       "      <td>46125.000000</td>\n",
       "      <td>553500.000000</td>\n",
       "      <td>1.271604e+06</td>\n",
       "      <td>1.0</td>\n",
       "      <td>171383.400000</td>\n",
       "    </tr>\n",
       "  </tbody>\n",
       "</table>\n",
       "</div>"
      ],
      "text/plain": [
       "              AGENCY      HRLY RATE     HRS PER WK        MONTHLY  \\\n",
       "count  149481.000000  149481.000000  149481.000000  149481.000000   \n",
       "mean      545.736288       0.346488      39.714918    4226.184248   \n",
       "std       139.057691       4.211485       2.323855    2093.111691   \n",
       "min       101.000000       0.000000       1.000000      50.000000   \n",
       "25%       529.000000       0.000000      40.000000    3019.840000   \n",
       "50%       530.000000       0.000000      40.000000    3720.170000   \n",
       "75%       696.000000       0.000000      40.000000    4865.810000   \n",
       "max       930.000000     117.788480      70.000000   46125.000000   \n",
       "\n",
       "              ANNUAL  STATE NUMBER  multiple_full_time_jobs  \\\n",
       "count  149481.000000  1.494810e+05                     14.0   \n",
       "mean    50714.210973  5.651930e+05                      1.0   \n",
       "std     25117.340292  4.786212e+05                      0.0   \n",
       "min       600.000000  1.000000e+00                      1.0   \n",
       "25%     36238.080000  1.133340e+05                      1.0   \n",
       "50%     44642.040000  3.463730e+05                      1.0   \n",
       "75%     58389.720000  1.100500e+06                      1.0   \n",
       "max    553500.000000  1.271604e+06                      1.0   \n",
       "\n",
       "       summed_annual_salary  \n",
       "count             16.000000  \n",
       "mean           74303.955000  \n",
       "std            51925.944282  \n",
       "min            18000.000000  \n",
       "25%            32962.500000  \n",
       "50%            48063.300000  \n",
       "75%           123751.770000  \n",
       "max           171383.400000  "
      ]
     },
     "execution_count": 7,
     "metadata": {},
     "output_type": "execute_result"
    }
   ],
   "source": [
    "df.describe()"
   ]
  },
  {
   "cell_type": "code",
   "execution_count": 8,
   "metadata": {},
   "outputs": [
    {
     "data": {
      "text/plain": [
       "Index(['AGENCY', 'AGENCY NAME', 'LAST NAME', 'FIRST NAME', 'MI', 'CLASS CODE',\n",
       "       'CLASS TITLE', 'ETHNICITY', 'GENDER', 'STATUS', 'EMPLOY DATE',\n",
       "       'HRLY RATE', 'HRS PER WK', 'MONTHLY', 'ANNUAL', 'STATE NUMBER',\n",
       "       'duplicated', 'multiple_full_time_jobs', 'combined_multiple_jobs',\n",
       "       'summed_annual_salary', 'hide_from_search'],\n",
       "      dtype='object')"
      ]
     },
     "execution_count": 8,
     "metadata": {},
     "output_type": "execute_result"
    }
   ],
   "source": [
    "# Name of all the columns\n",
    "df.columns"
   ]
  },
  {
   "cell_type": "markdown",
   "metadata": {},
   "source": [
    "### Data Analysis"
   ]
  },
  {
   "cell_type": "markdown",
   "metadata": {},
   "source": [
    "#### Agency Names"
   ]
  },
  {
   "cell_type": "code",
   "execution_count": 9,
   "metadata": {},
   "outputs": [
    {
     "data": {
      "text/html": [
       "<div>\n",
       "<style scoped>\n",
       "    .dataframe tbody tr th:only-of-type {\n",
       "        vertical-align: middle;\n",
       "    }\n",
       "\n",
       "    .dataframe tbody tr th {\n",
       "        vertical-align: top;\n",
       "    }\n",
       "\n",
       "    .dataframe thead th {\n",
       "        text-align: right;\n",
       "    }\n",
       "</style>\n",
       "<table border=\"1\" class=\"dataframe\">\n",
       "  <thead>\n",
       "    <tr style=\"text-align: right;\">\n",
       "      <th></th>\n",
       "      <th>HRLY RATE</th>\n",
       "      <th>HRS PER WK</th>\n",
       "      <th>MONTHLY</th>\n",
       "      <th>ANNUAL</th>\n",
       "    </tr>\n",
       "    <tr>\n",
       "      <th>AGENCY NAME</th>\n",
       "      <th></th>\n",
       "      <th></th>\n",
       "      <th></th>\n",
       "      <th></th>\n",
       "    </tr>\n",
       "  </thead>\n",
       "  <tbody>\n",
       "    <tr>\n",
       "      <th>ALCOHOLIC BEVERAGE COMMISSION</th>\n",
       "      <td>179.79000</td>\n",
       "      <td>25516.0</td>\n",
       "      <td>3250490.05</td>\n",
       "      <td>39005880.60</td>\n",
       "    </tr>\n",
       "    <tr>\n",
       "      <th>BOARD OF ARCHITECTURAL EXAMINERS</th>\n",
       "      <td>0.00000</td>\n",
       "      <td>720.0</td>\n",
       "      <td>124821.35</td>\n",
       "      <td>1497856.20</td>\n",
       "    </tr>\n",
       "    <tr>\n",
       "      <th>BOARD OF CHIROPRACTIC EXAMINERS</th>\n",
       "      <td>0.00000</td>\n",
       "      <td>400.0</td>\n",
       "      <td>52707.54</td>\n",
       "      <td>632490.48</td>\n",
       "    </tr>\n",
       "    <tr>\n",
       "      <th>BOARD OF DENTAL EXAMINERS</th>\n",
       "      <td>0.00000</td>\n",
       "      <td>2240.0</td>\n",
       "      <td>248031.72</td>\n",
       "      <td>2976380.64</td>\n",
       "    </tr>\n",
       "    <tr>\n",
       "      <th>BOARD OF EXAMINERS OF PSYCHOLOGISTS</th>\n",
       "      <td>49.40717</td>\n",
       "      <td>560.0</td>\n",
       "      <td>58578.92</td>\n",
       "      <td>702947.04</td>\n",
       "    </tr>\n",
       "    <tr>\n",
       "      <th>...</th>\n",
       "      <td>...</td>\n",
       "      <td>...</td>\n",
       "      <td>...</td>\n",
       "      <td>...</td>\n",
       "    </tr>\n",
       "    <tr>\n",
       "      <th>THIRD COURT OF APPEALS DISTRICT</th>\n",
       "      <td>0.00000</td>\n",
       "      <td>1280.0</td>\n",
       "      <td>254888.13</td>\n",
       "      <td>3058657.56</td>\n",
       "    </tr>\n",
       "    <tr>\n",
       "      <th>THIRTEENTH COURT OF APPEALS DISTRICT</th>\n",
       "      <td>0.00000</td>\n",
       "      <td>1200.0</td>\n",
       "      <td>249700.65</td>\n",
       "      <td>2996407.80</td>\n",
       "    </tr>\n",
       "    <tr>\n",
       "      <th>TREASURY SAFEKEEPING TRUST COMPANY</th>\n",
       "      <td>0.00000</td>\n",
       "      <td>2830.0</td>\n",
       "      <td>697833.19</td>\n",
       "      <td>8373998.28</td>\n",
       "    </tr>\n",
       "    <tr>\n",
       "      <th>TWELFTH COURT OF APPEALS DISTRICT</th>\n",
       "      <td>0.00000</td>\n",
       "      <td>600.0</td>\n",
       "      <td>136020.82</td>\n",
       "      <td>1632249.84</td>\n",
       "    </tr>\n",
       "    <tr>\n",
       "      <th>WATER DEVELOPMENT BOARD</th>\n",
       "      <td>0.00000</td>\n",
       "      <td>13570.0</td>\n",
       "      <td>2038850.87</td>\n",
       "      <td>24466210.44</td>\n",
       "    </tr>\n",
       "  </tbody>\n",
       "</table>\n",
       "<p>113 rows × 4 columns</p>\n",
       "</div>"
      ],
      "text/plain": [
       "                                                    HRLY RATE  HRS PER WK  \\\n",
       "AGENCY NAME                                                                 \n",
       "ALCOHOLIC BEVERAGE COMMISSION                       179.79000     25516.0   \n",
       "BOARD OF ARCHITECTURAL EXAMINERS                      0.00000       720.0   \n",
       "BOARD OF CHIROPRACTIC EXAMINERS                       0.00000       400.0   \n",
       "BOARD OF DENTAL EXAMINERS                             0.00000      2240.0   \n",
       "BOARD OF EXAMINERS OF PSYCHOLOGISTS                  49.40717       560.0   \n",
       "...                                                       ...         ...   \n",
       "THIRD COURT OF APPEALS DISTRICT                       0.00000      1280.0   \n",
       "THIRTEENTH COURT OF APPEALS DISTRICT                  0.00000      1200.0   \n",
       "TREASURY SAFEKEEPING TRUST COMPANY                    0.00000      2830.0   \n",
       "TWELFTH COURT OF APPEALS DISTRICT                     0.00000       600.0   \n",
       "WATER DEVELOPMENT BOARD                               0.00000     13570.0   \n",
       "\n",
       "                                                       MONTHLY       ANNUAL  \n",
       "AGENCY NAME                                                                  \n",
       "ALCOHOLIC BEVERAGE COMMISSION                       3250490.05  39005880.60  \n",
       "BOARD OF ARCHITECTURAL EXAMINERS                     124821.35   1497856.20  \n",
       "BOARD OF CHIROPRACTIC EXAMINERS                       52707.54    632490.48  \n",
       "BOARD OF DENTAL EXAMINERS                            248031.72   2976380.64  \n",
       "BOARD OF EXAMINERS OF PSYCHOLOGISTS                   58578.92    702947.04  \n",
       "...                                                        ...          ...  \n",
       "THIRD COURT OF APPEALS DISTRICT                      254888.13   3058657.56  \n",
       "THIRTEENTH COURT OF APPEALS DISTRICT                 249700.65   2996407.80  \n",
       "TREASURY SAFEKEEPING TRUST COMPANY                   697833.19   8373998.28  \n",
       "TWELFTH COURT OF APPEALS DISTRICT                    136020.82   1632249.84  \n",
       "WATER DEVELOPMENT BOARD                             2038850.87  24466210.44  \n",
       "\n",
       "[113 rows x 4 columns]"
      ]
     },
     "execution_count": 9,
     "metadata": {},
     "output_type": "execute_result"
    }
   ],
   "source": [
    "df.groupby('AGENCY NAME')[['HRLY RATE', 'HRS PER WK', 'MONTHLY', 'ANNUAL']].sum()"
   ]
  },
  {
   "cell_type": "markdown",
   "metadata": {},
   "source": [
    "#### Class Title"
   ]
  },
  {
   "cell_type": "code",
   "execution_count": 10,
   "metadata": {},
   "outputs": [
    {
     "data": {
      "text/html": [
       "<div>\n",
       "<style scoped>\n",
       "    .dataframe tbody tr th:only-of-type {\n",
       "        vertical-align: middle;\n",
       "    }\n",
       "\n",
       "    .dataframe tbody tr th {\n",
       "        vertical-align: top;\n",
       "    }\n",
       "\n",
       "    .dataframe thead th {\n",
       "        text-align: right;\n",
       "    }\n",
       "</style>\n",
       "<table border=\"1\" class=\"dataframe\">\n",
       "  <thead>\n",
       "    <tr style=\"text-align: right;\">\n",
       "      <th></th>\n",
       "      <th>HRLY RATE</th>\n",
       "      <th>HRS PER WK</th>\n",
       "      <th>MONTHLY</th>\n",
       "      <th>ANNUAL</th>\n",
       "    </tr>\n",
       "    <tr>\n",
       "      <th>CLASS TITLE</th>\n",
       "      <th></th>\n",
       "      <th></th>\n",
       "      <th></th>\n",
       "      <th></th>\n",
       "    </tr>\n",
       "  </thead>\n",
       "  <tbody>\n",
       "    <tr>\n",
       "      <th>14 CUSTOMER SERVICES REP</th>\n",
       "      <td>0.0</td>\n",
       "      <td>280.0</td>\n",
       "      <td>23568.52</td>\n",
       "      <td>282822.24</td>\n",
       "    </tr>\n",
       "    <tr>\n",
       "      <th>19 EXECUTIVE ASSISTANT</th>\n",
       "      <td>0.0</td>\n",
       "      <td>80.0</td>\n",
       "      <td>10832.16</td>\n",
       "      <td>129985.92</td>\n",
       "    </tr>\n",
       "    <tr>\n",
       "      <th>20 PROGRAM SPECIALIST III</th>\n",
       "      <td>0.0</td>\n",
       "      <td>280.0</td>\n",
       "      <td>34676.41</td>\n",
       "      <td>416116.92</td>\n",
       "    </tr>\n",
       "    <tr>\n",
       "      <th>21 BUSINESS ANALYST</th>\n",
       "      <td>0.0</td>\n",
       "      <td>120.0</td>\n",
       "      <td>16105.70</td>\n",
       "      <td>193268.40</td>\n",
       "    </tr>\n",
       "    <tr>\n",
       "      <th>21 SYSTEMS ADMINISTRATOR III</th>\n",
       "      <td>0.0</td>\n",
       "      <td>80.0</td>\n",
       "      <td>9729.17</td>\n",
       "      <td>116750.04</td>\n",
       "    </tr>\n",
       "    <tr>\n",
       "      <th>...</th>\n",
       "      <td>...</td>\n",
       "      <td>...</td>\n",
       "      <td>...</td>\n",
       "      <td>...</td>\n",
       "    </tr>\n",
       "    <tr>\n",
       "      <th>WRITING SPEC I</th>\n",
       "      <td>0.0</td>\n",
       "      <td>80.0</td>\n",
       "      <td>6541.66</td>\n",
       "      <td>78499.92</td>\n",
       "    </tr>\n",
       "    <tr>\n",
       "      <th>WRITING SPEC II</th>\n",
       "      <td>0.0</td>\n",
       "      <td>40.0</td>\n",
       "      <td>3583.33</td>\n",
       "      <td>42999.96</td>\n",
       "    </tr>\n",
       "    <tr>\n",
       "      <th>WRITING SPECIALIST III</th>\n",
       "      <td>0.0</td>\n",
       "      <td>120.0</td>\n",
       "      <td>12362.98</td>\n",
       "      <td>148355.76</td>\n",
       "    </tr>\n",
       "    <tr>\n",
       "      <th>YOUTH FACILITY ASST SUPT</th>\n",
       "      <td>0.0</td>\n",
       "      <td>200.0</td>\n",
       "      <td>31318.85</td>\n",
       "      <td>375826.20</td>\n",
       "    </tr>\n",
       "    <tr>\n",
       "      <th>YOUTH FACILITY SUPERINTENDENT</th>\n",
       "      <td>0.0</td>\n",
       "      <td>200.0</td>\n",
       "      <td>39169.14</td>\n",
       "      <td>470029.68</td>\n",
       "    </tr>\n",
       "  </tbody>\n",
       "</table>\n",
       "<p>1422 rows × 4 columns</p>\n",
       "</div>"
      ],
      "text/plain": [
       "                                                    HRLY RATE  HRS PER WK  \\\n",
       "CLASS TITLE                                                                 \n",
       "14 CUSTOMER SERVICES REP                                  0.0       280.0   \n",
       "19 EXECUTIVE ASSISTANT                                    0.0        80.0   \n",
       "20 PROGRAM SPECIALIST III                                 0.0       280.0   \n",
       "21 BUSINESS ANALYST                                       0.0       120.0   \n",
       "21 SYSTEMS ADMINISTRATOR III                              0.0        80.0   \n",
       "...                                                       ...         ...   \n",
       "WRITING SPEC I                                            0.0        80.0   \n",
       "WRITING SPEC II                                           0.0        40.0   \n",
       "WRITING SPECIALIST III                                    0.0       120.0   \n",
       "YOUTH FACILITY ASST SUPT                                  0.0       200.0   \n",
       "YOUTH FACILITY SUPERINTENDENT                             0.0       200.0   \n",
       "\n",
       "                                                     MONTHLY     ANNUAL  \n",
       "CLASS TITLE                                                              \n",
       "14 CUSTOMER SERVICES REP                            23568.52  282822.24  \n",
       "19 EXECUTIVE ASSISTANT                              10832.16  129985.92  \n",
       "20 PROGRAM SPECIALIST III                           34676.41  416116.92  \n",
       "21 BUSINESS ANALYST                                 16105.70  193268.40  \n",
       "21 SYSTEMS ADMINISTRATOR III                         9729.17  116750.04  \n",
       "...                                                      ...        ...  \n",
       "WRITING SPEC I                                       6541.66   78499.92  \n",
       "WRITING SPEC II                                      3583.33   42999.96  \n",
       "WRITING SPECIALIST III                              12362.98  148355.76  \n",
       "YOUTH FACILITY ASST SUPT                            31318.85  375826.20  \n",
       "YOUTH FACILITY SUPERINTENDENT                       39169.14  470029.68  \n",
       "\n",
       "[1422 rows x 4 columns]"
      ]
     },
     "execution_count": 10,
     "metadata": {},
     "output_type": "execute_result"
    }
   ],
   "source": [
    "df.groupby('CLASS TITLE')[['HRLY RATE', 'HRS PER WK', 'MONTHLY', 'ANNUAL']].sum()"
   ]
  },
  {
   "cell_type": "markdown",
   "metadata": {},
   "source": [
    "#### Status"
   ]
  },
  {
   "cell_type": "code",
   "execution_count": 11,
   "metadata": {},
   "outputs": [
    {
     "data": {
      "text/html": [
       "<div>\n",
       "<style scoped>\n",
       "    .dataframe tbody tr th:only-of-type {\n",
       "        vertical-align: middle;\n",
       "    }\n",
       "\n",
       "    .dataframe tbody tr th {\n",
       "        vertical-align: top;\n",
       "    }\n",
       "\n",
       "    .dataframe thead th {\n",
       "        text-align: right;\n",
       "    }\n",
       "</style>\n",
       "<table border=\"1\" class=\"dataframe\">\n",
       "  <thead>\n",
       "    <tr style=\"text-align: right;\">\n",
       "      <th></th>\n",
       "      <th>HRLY RATE</th>\n",
       "      <th>HRS PER WK</th>\n",
       "      <th>MONTHLY</th>\n",
       "      <th>ANNUAL</th>\n",
       "    </tr>\n",
       "    <tr>\n",
       "      <th>STATUS</th>\n",
       "      <th></th>\n",
       "      <th></th>\n",
       "      <th></th>\n",
       "      <th></th>\n",
       "    </tr>\n",
       "  </thead>\n",
       "  <tbody>\n",
       "    <tr>\n",
       "      <th>CRF - CLASSIFIED REGULAR FULL-TIME</th>\n",
       "      <td>1373.16959</td>\n",
       "      <td>5700080.00</td>\n",
       "      <td>5.946616e+08</td>\n",
       "      <td>7.135939e+09</td>\n",
       "    </tr>\n",
       "    <tr>\n",
       "      <th>CRP - CLASSIFIED REGULAR PART-TIME</th>\n",
       "      <td>4419.28682</td>\n",
       "      <td>32247.33</td>\n",
       "      <td>3.054320e+06</td>\n",
       "      <td>3.665184e+07</td>\n",
       "    </tr>\n",
       "    <tr>\n",
       "      <th>CTF - CLASSIFIED TEMPORARY FULL-TIME</th>\n",
       "      <td>11972.87274</td>\n",
       "      <td>43840.00</td>\n",
       "      <td>3.054006e+06</td>\n",
       "      <td>3.664807e+07</td>\n",
       "    </tr>\n",
       "    <tr>\n",
       "      <th>CTP - CLASSIFIED TEMPORARY FULL-TIME</th>\n",
       "      <td>11.50000</td>\n",
       "      <td>40.00</td>\n",
       "      <td>1.993320e+03</td>\n",
       "      <td>2.391984e+04</td>\n",
       "    </tr>\n",
       "    <tr>\n",
       "      <th>CTP - CLASSIFIED TEMPORARY PART-TIME</th>\n",
       "      <td>1186.31846</td>\n",
       "      <td>1811.80</td>\n",
       "      <td>1.306199e+05</td>\n",
       "      <td>1.567439e+06</td>\n",
       "    </tr>\n",
       "    <tr>\n",
       "      <th>ERF - EXEMPT REGULAR FULL-TIME</th>\n",
       "      <td>0.00000</td>\n",
       "      <td>36920.00</td>\n",
       "      <td>1.199195e+07</td>\n",
       "      <td>1.439034e+08</td>\n",
       "    </tr>\n",
       "    <tr>\n",
       "      <th>ERP - EXEMPT REGULAR PART-TIME</th>\n",
       "      <td>49.40717</td>\n",
       "      <td>20.00</td>\n",
       "      <td>4.281950e+03</td>\n",
       "      <td>5.138340e+04</td>\n",
       "    </tr>\n",
       "    <tr>\n",
       "      <th>URF - UNCLASSIFIED REGULAR FULL-TIME</th>\n",
       "      <td>74.57216</td>\n",
       "      <td>94875.00</td>\n",
       "      <td>1.344679e+07</td>\n",
       "      <td>1.613614e+08</td>\n",
       "    </tr>\n",
       "    <tr>\n",
       "      <th>URP - UNCLASSIFIED REGULAR PART-TIME</th>\n",
       "      <td>32514.55267</td>\n",
       "      <td>25917.51</td>\n",
       "      <td>5.319307e+06</td>\n",
       "      <td>6.383168e+07</td>\n",
       "    </tr>\n",
       "    <tr>\n",
       "      <th>UTF - UNCLASSIFIED TEMPORARY FULL-TIME</th>\n",
       "      <td>0.00000</td>\n",
       "      <td>480.00</td>\n",
       "      <td>3.823383e+04</td>\n",
       "      <td>4.588060e+05</td>\n",
       "    </tr>\n",
       "    <tr>\n",
       "      <th>UTP - UNCLASSIFIED TEMPORARY PART-TIME</th>\n",
       "      <td>191.66538</td>\n",
       "      <td>394.00</td>\n",
       "      <td>3.114313e+04</td>\n",
       "      <td>3.737176e+05</td>\n",
       "    </tr>\n",
       "  </tbody>\n",
       "</table>\n",
       "</div>"
      ],
      "text/plain": [
       "                                            HRLY RATE  HRS PER WK  \\\n",
       "STATUS                                                              \n",
       "CRF - CLASSIFIED REGULAR FULL-TIME         1373.16959  5700080.00   \n",
       "CRP - CLASSIFIED REGULAR PART-TIME         4419.28682    32247.33   \n",
       "CTF - CLASSIFIED TEMPORARY FULL-TIME      11972.87274    43840.00   \n",
       "CTP - CLASSIFIED TEMPORARY FULL-TIME         11.50000       40.00   \n",
       "CTP - CLASSIFIED TEMPORARY PART-TIME       1186.31846     1811.80   \n",
       "ERF - EXEMPT REGULAR FULL-TIME                0.00000    36920.00   \n",
       "ERP - EXEMPT REGULAR PART-TIME               49.40717       20.00   \n",
       "URF - UNCLASSIFIED REGULAR FULL-TIME         74.57216    94875.00   \n",
       "URP - UNCLASSIFIED REGULAR PART-TIME      32514.55267    25917.51   \n",
       "UTF - UNCLASSIFIED TEMPORARY FULL-TIME        0.00000      480.00   \n",
       "UTP - UNCLASSIFIED TEMPORARY PART-TIME      191.66538      394.00   \n",
       "\n",
       "                                               MONTHLY        ANNUAL  \n",
       "STATUS                                                                \n",
       "CRF - CLASSIFIED REGULAR FULL-TIME        5.946616e+08  7.135939e+09  \n",
       "CRP - CLASSIFIED REGULAR PART-TIME        3.054320e+06  3.665184e+07  \n",
       "CTF - CLASSIFIED TEMPORARY FULL-TIME      3.054006e+06  3.664807e+07  \n",
       "CTP - CLASSIFIED TEMPORARY FULL-TIME      1.993320e+03  2.391984e+04  \n",
       "CTP - CLASSIFIED TEMPORARY PART-TIME      1.306199e+05  1.567439e+06  \n",
       "ERF - EXEMPT REGULAR FULL-TIME            1.199195e+07  1.439034e+08  \n",
       "ERP - EXEMPT REGULAR PART-TIME            4.281950e+03  5.138340e+04  \n",
       "URF - UNCLASSIFIED REGULAR FULL-TIME      1.344679e+07  1.613614e+08  \n",
       "URP - UNCLASSIFIED REGULAR PART-TIME      5.319307e+06  6.383168e+07  \n",
       "UTF - UNCLASSIFIED TEMPORARY FULL-TIME    3.823383e+04  4.588060e+05  \n",
       "UTP - UNCLASSIFIED TEMPORARY PART-TIME    3.114313e+04  3.737176e+05  "
      ]
     },
     "execution_count": 11,
     "metadata": {},
     "output_type": "execute_result"
    }
   ],
   "source": [
    "df.groupby('STATUS')[['HRLY RATE', 'HRS PER WK', 'MONTHLY', 'ANNUAL']].sum()"
   ]
  },
  {
   "cell_type": "markdown",
   "metadata": {},
   "source": [
    "#### Gender"
   ]
  },
  {
   "cell_type": "code",
   "execution_count": 12,
   "metadata": {},
   "outputs": [
    {
     "data": {
      "text/html": [
       "<div>\n",
       "<style scoped>\n",
       "    .dataframe tbody tr th:only-of-type {\n",
       "        vertical-align: middle;\n",
       "    }\n",
       "\n",
       "    .dataframe tbody tr th {\n",
       "        vertical-align: top;\n",
       "    }\n",
       "\n",
       "    .dataframe thead th {\n",
       "        text-align: right;\n",
       "    }\n",
       "</style>\n",
       "<table border=\"1\" class=\"dataframe\">\n",
       "  <thead>\n",
       "    <tr style=\"text-align: right;\">\n",
       "      <th></th>\n",
       "      <th>HRLY RATE</th>\n",
       "      <th>HRS PER WK</th>\n",
       "      <th>MONTHLY</th>\n",
       "      <th>ANNUAL</th>\n",
       "    </tr>\n",
       "    <tr>\n",
       "      <th>GENDER</th>\n",
       "      <th></th>\n",
       "      <th></th>\n",
       "      <th></th>\n",
       "      <th></th>\n",
       "    </tr>\n",
       "  </thead>\n",
       "  <tbody>\n",
       "    <tr>\n",
       "      <th>FEMALE</th>\n",
       "      <td>16622.54307</td>\n",
       "      <td>3388458.96</td>\n",
       "      <td>3.405936e+08</td>\n",
       "      <td>4.087123e+09</td>\n",
       "    </tr>\n",
       "    <tr>\n",
       "      <th>MALE</th>\n",
       "      <td>35170.80192</td>\n",
       "      <td>2548166.68</td>\n",
       "      <td>2.911407e+08</td>\n",
       "      <td>3.493688e+09</td>\n",
       "    </tr>\n",
       "  </tbody>\n",
       "</table>\n",
       "</div>"
      ],
      "text/plain": [
       "                   HRLY RATE  HRS PER WK       MONTHLY        ANNUAL\n",
       "GENDER                                                              \n",
       "FEMALE           16622.54307  3388458.96  3.405936e+08  4.087123e+09\n",
       "MALE             35170.80192  2548166.68  2.911407e+08  3.493688e+09"
      ]
     },
     "execution_count": 12,
     "metadata": {},
     "output_type": "execute_result"
    }
   ],
   "source": [
    "df.groupby('GENDER')[['HRLY RATE', 'HRS PER WK', 'MONTHLY', 'ANNUAL']].sum()"
   ]
  },
  {
   "cell_type": "markdown",
   "metadata": {},
   "source": [
    "#### Ethnicity"
   ]
  },
  {
   "cell_type": "code",
   "execution_count": 13,
   "metadata": {},
   "outputs": [
    {
     "data": {
      "text/html": [
       "<div>\n",
       "<style scoped>\n",
       "    .dataframe tbody tr th:only-of-type {\n",
       "        vertical-align: middle;\n",
       "    }\n",
       "\n",
       "    .dataframe tbody tr th {\n",
       "        vertical-align: top;\n",
       "    }\n",
       "\n",
       "    .dataframe thead th {\n",
       "        text-align: right;\n",
       "    }\n",
       "</style>\n",
       "<table border=\"1\" class=\"dataframe\">\n",
       "  <thead>\n",
       "    <tr style=\"text-align: right;\">\n",
       "      <th></th>\n",
       "      <th>HRLY RATE</th>\n",
       "      <th>HRS PER WK</th>\n",
       "      <th>MONTHLY</th>\n",
       "      <th>ANNUAL</th>\n",
       "    </tr>\n",
       "    <tr>\n",
       "      <th>ETHNICITY</th>\n",
       "      <th></th>\n",
       "      <th></th>\n",
       "      <th></th>\n",
       "      <th></th>\n",
       "    </tr>\n",
       "  </thead>\n",
       "  <tbody>\n",
       "    <tr>\n",
       "      <th>AM INDIAN</th>\n",
       "      <td>221.99848</td>\n",
       "      <td>28329.25</td>\n",
       "      <td>3.050715e+06</td>\n",
       "      <td>3.660858e+07</td>\n",
       "    </tr>\n",
       "    <tr>\n",
       "      <th>ASIAN</th>\n",
       "      <td>887.62122</td>\n",
       "      <td>169879.75</td>\n",
       "      <td>2.265989e+07</td>\n",
       "      <td>2.719187e+08</td>\n",
       "    </tr>\n",
       "    <tr>\n",
       "      <th>BLACK</th>\n",
       "      <td>2131.30889</td>\n",
       "      <td>1425371.75</td>\n",
       "      <td>1.292044e+08</td>\n",
       "      <td>1.550453e+09</td>\n",
       "    </tr>\n",
       "    <tr>\n",
       "      <th>HISPANIC</th>\n",
       "      <td>8604.39334</td>\n",
       "      <td>1614490.65</td>\n",
       "      <td>1.596702e+08</td>\n",
       "      <td>1.916042e+09</td>\n",
       "    </tr>\n",
       "    <tr>\n",
       "      <th>OTHER</th>\n",
       "      <td>169.90002</td>\n",
       "      <td>36300.50</td>\n",
       "      <td>3.495564e+06</td>\n",
       "      <td>4.194677e+07</td>\n",
       "    </tr>\n",
       "    <tr>\n",
       "      <th>WHITE</th>\n",
       "      <td>39778.12304</td>\n",
       "      <td>2662253.74</td>\n",
       "      <td>3.136535e+08</td>\n",
       "      <td>3.763842e+09</td>\n",
       "    </tr>\n",
       "  </tbody>\n",
       "</table>\n",
       "</div>"
      ],
      "text/plain": [
       "                   HRLY RATE  HRS PER WK       MONTHLY        ANNUAL\n",
       "ETHNICITY                                                           \n",
       "AM INDIAN          221.99848    28329.25  3.050715e+06  3.660858e+07\n",
       "ASIAN              887.62122   169879.75  2.265989e+07  2.719187e+08\n",
       "BLACK             2131.30889  1425371.75  1.292044e+08  1.550453e+09\n",
       "HISPANIC          8604.39334  1614490.65  1.596702e+08  1.916042e+09\n",
       "OTHER              169.90002    36300.50  3.495564e+06  4.194677e+07\n",
       "WHITE            39778.12304  2662253.74  3.136535e+08  3.763842e+09"
      ]
     },
     "execution_count": 13,
     "metadata": {},
     "output_type": "execute_result"
    }
   ],
   "source": [
    "df.groupby('ETHNICITY')[['HRLY RATE', 'HRS PER WK', 'MONTHLY', 'ANNUAL']].sum()"
   ]
  },
  {
   "cell_type": "code",
   "execution_count": null,
   "metadata": {},
   "outputs": [],
   "source": []
  },
  {
   "cell_type": "markdown",
   "metadata": {},
   "source": [
    "### Data Visualization"
   ]
  },
  {
   "cell_type": "code",
   "execution_count": 14,
   "metadata": {},
   "outputs": [],
   "source": [
    "col = df[['HRLY RATE', 'HRS PER WK', 'MONTHLY', 'ANNUAL']]"
   ]
  },
  {
   "cell_type": "code",
   "execution_count": 15,
   "metadata": {},
   "outputs": [
    {
     "data": {
      "image/png": "[encoded data removed]",
      "text/plain": [
       "<Figure size 1080x720 with 4 Axes>"
      ]
     },
     "metadata": {
      "needs_background": "light"
     },
     "output_type": "display_data"
    }
   ],
   "source": [
    "plt.figure(figsize=(15,10))\n",
    "num = 1\n",
    "for column in col:\n",
    "        plt.subplot(2,2,num)\n",
    "        sns.boxplot(col[column])\n",
    "        num += 1\n",
    "        \n",
    "plt.tight_layout()  "
   ]
  },
  {
   "cell_type": "code",
   "execution_count": 16,
   "metadata": {
    "scrolled": true
   },
   "outputs": [
    {
     "data": {
      "text/plain": [
       "<AxesSubplot:xlabel='GENDER', ylabel='count'>"
      ]
     },
     "execution_count": 16,
     "metadata": {},
     "output_type": "execute_result"
    },
    {
     "data": {
      "image/png": "[encoded data removed]",
      "text/plain": [
       "<Figure size 432x288 with 1 Axes>"
      ]
     },
     "metadata": {
      "needs_background": "light"
     },
     "output_type": "display_data"
    }
   ],
   "source": [
    "sns.countplot(x=df['GENDER'])"
   ]
  },
  {
   "cell_type": "markdown",
   "metadata": {},
   "source": [
    "As we see, we have more of Female employees in comparion to Male employees"
   ]
  },
  {
   "cell_type": "code",
   "execution_count": 17,
   "metadata": {
    "scrolled": true
   },
   "outputs": [
    {
     "data": {
      "image/png": "[encoded data removed]",
      "text/plain": [
       "<Figure size 432x288 with 1 Axes>"
      ]
     },
     "metadata": {
      "needs_background": "light"
     },
     "output_type": "display_data"
    }
   ],
   "source": [
    "sns.barplot(data=df, x='ETHNICITY',y='HRLY RATE', errorbar=None)\n",
    "\n",
    "plt.show()"
   ]
  },
  {
   "cell_type": "code",
   "execution_count": 18,
   "metadata": {},
   "outputs": [
    {
     "data": {
      "image/png": "[encoded data removed]",
      "text/plain": [
       "<Figure size 432x360 with 1 Axes>"
      ]
     },
     "metadata": {
      "needs_background": "light"
     },
     "output_type": "display_data"
    }
   ],
   "source": [
    "plt.figure(figsize=(6,5))\n",
    "sns.barplot(data=df, x='ETHNICITY',y='HRS PER WK', errorbar=None)\n",
    "\n",
    "plt.show()"
   ]
  },
  {
   "cell_type": "code",
   "execution_count": 19,
   "metadata": {},
   "outputs": [
    {
     "data": {
      "image/png": "[encoded data removed]",
      "text/plain": [
       "<Figure size 432x288 with 1 Axes>"
      ]
     },
     "metadata": {
      "needs_background": "light"
     },
     "output_type": "display_data"
    }
   ],
   "source": [
    "sns.barplot(data=df, x='ETHNICITY', y='ANNUAL', errorbar=None)\n",
    "\n",
    "plt.show()"
   ]
  },
  {
   "cell_type": "markdown",
   "metadata": {},
   "source": [
    "- For Hourly Rate, there are more White employees.Indian employees are the next most numerous group after them.\n",
    "- In hrs per wk, we have 4 ethnicities working more than other. Hispanic, Black, Indian and Asian\n",
    "- Asian people are earning more salaries with White employees coming in second"
   ]
  },
  {
   "cell_type": "code",
   "execution_count": 20,
   "metadata": {
    "scrolled": false
   },
   "outputs": [
    {
     "data": {
      "text/plain": [
       "<AxesSubplot:ylabel='Density'>"
      ]
     },
     "execution_count": 20,
     "metadata": {},
     "output_type": "execute_result"
    },
    {
     "data": {
      "image/png": "[encoded data removed]",
      "text/plain": [
       "<Figure size 432x288 with 1 Axes>"
      ]
     },
     "metadata": {
      "needs_background": "light"
     },
     "output_type": "display_data"
    }
   ],
   "source": [
    "sns.distplot(x=df['ANNUAL'], hist=True)"
   ]
  },
  {
   "cell_type": "code",
   "execution_count": 21,
   "metadata": {},
   "outputs": [
    {
     "data": {
      "image/png": "[encoded data removed]",
      "text/plain": [
       "<Figure size 720x648 with 1 Axes>"
      ]
     },
     "metadata": {
      "needs_background": "light"
     },
     "output_type": "display_data"
    }
   ],
   "source": [
    "plt.figure(figsize=(10,9))\n",
    "\n",
    "sns.countplot(x=df['STATUS'])\n",
    "plt.xticks(rotation=90)\n",
    "\n",
    "plt.show()"
   ]
  },
  {
   "cell_type": "markdown",
   "metadata": {},
   "source": [
    "There are more employess working as \"CLASSIFIED REGULAR FULL-TIME\" in comparison to the others"
   ]
  },
  {
   "cell_type": "markdown",
   "metadata": {},
   "source": [
    "### Creating a copy of the dataset"
   ]
  },
  {
   "cell_type": "code",
   "execution_count": 22,
   "metadata": {},
   "outputs": [],
   "source": [
    "sal = df.copy()"
   ]
  },
  {
   "cell_type": "code",
   "execution_count": 23,
   "metadata": {},
   "outputs": [
    {
     "data": {
      "text/html": [
       "<div>\n",
       "<style scoped>\n",
       "    .dataframe tbody tr th:only-of-type {\n",
       "        vertical-align: middle;\n",
       "    }\n",
       "\n",
       "    .dataframe tbody tr th {\n",
       "        vertical-align: top;\n",
       "    }\n",
       "\n",
       "    .dataframe thead th {\n",
       "        text-align: right;\n",
       "    }\n",
       "</style>\n",
       "<table border=\"1\" class=\"dataframe\">\n",
       "  <thead>\n",
       "    <tr style=\"text-align: right;\">\n",
       "      <th></th>\n",
       "      <th>AGENCY</th>\n",
       "      <th>AGENCY NAME</th>\n",
       "      <th>LAST NAME</th>\n",
       "      <th>FIRST NAME</th>\n",
       "      <th>MI</th>\n",
       "      <th>CLASS CODE</th>\n",
       "      <th>CLASS TITLE</th>\n",
       "      <th>ETHNICITY</th>\n",
       "      <th>GENDER</th>\n",
       "      <th>STATUS</th>\n",
       "      <th>EMPLOY DATE</th>\n",
       "      <th>HRLY RATE</th>\n",
       "      <th>HRS PER WK</th>\n",
       "      <th>MONTHLY</th>\n",
       "      <th>ANNUAL</th>\n",
       "      <th>STATE NUMBER</th>\n",
       "      <th>duplicated</th>\n",
       "      <th>multiple_full_time_jobs</th>\n",
       "      <th>combined_multiple_jobs</th>\n",
       "      <th>summed_annual_salary</th>\n",
       "      <th>hide_from_search</th>\n",
       "    </tr>\n",
       "  </thead>\n",
       "  <tbody>\n",
       "    <tr>\n",
       "      <th>0</th>\n",
       "      <td>241</td>\n",
       "      <td>COMPTROLLER OF PUBLIC ACCOUNTS, JUDICIARY SECT...</td>\n",
       "      <td>RUCKER</td>\n",
       "      <td>MORTON</td>\n",
       "      <td>V</td>\n",
       "      <td>JD25</td>\n",
       "      <td>JUDGE, RETIRED                                ...</td>\n",
       "      <td>WHITE</td>\n",
       "      <td>MALE</td>\n",
       "      <td>URP - UNCLASSIFIED REGULAR PART-TIME</td>\n",
       "      <td>02/18/88</td>\n",
       "      <td>75.96150</td>\n",
       "      <td>29.0</td>\n",
       "      <td>9545.82</td>\n",
       "      <td>114549.84</td>\n",
       "      <td>127717</td>\n",
       "      <td>True</td>\n",
       "      <td>NaN</td>\n",
       "      <td>NaN</td>\n",
       "      <td>131407.08</td>\n",
       "      <td>NaN</td>\n",
       "    </tr>\n",
       "    <tr>\n",
       "      <th>1</th>\n",
       "      <td>212</td>\n",
       "      <td>OFFICE OF COURT ADMINISTRATION                ...</td>\n",
       "      <td>RUCKER</td>\n",
       "      <td>MORTON</td>\n",
       "      <td>V</td>\n",
       "      <td>3524</td>\n",
       "      <td>GENERAL COUNSEL IV                            ...</td>\n",
       "      <td>WHITE</td>\n",
       "      <td>MALE</td>\n",
       "      <td>CTP - CLASSIFIED TEMPORARY PART-TIME</td>\n",
       "      <td>02/01/15</td>\n",
       "      <td>81.04454</td>\n",
       "      <td>4.0</td>\n",
       "      <td>1404.77</td>\n",
       "      <td>16857.24</td>\n",
       "      <td>127717</td>\n",
       "      <td>True</td>\n",
       "      <td>NaN</td>\n",
       "      <td>NaN</td>\n",
       "      <td>NaN</td>\n",
       "      <td>True</td>\n",
       "    </tr>\n",
       "    <tr>\n",
       "      <th>2</th>\n",
       "      <td>241</td>\n",
       "      <td>COMPTROLLER OF PUBLIC ACCOUNTS, JUDICIARY SECT...</td>\n",
       "      <td>SPECIA JR</td>\n",
       "      <td>JOHN</td>\n",
       "      <td>J</td>\n",
       "      <td>JD25</td>\n",
       "      <td>JUDGE, RETIRED                                ...</td>\n",
       "      <td>WHITE</td>\n",
       "      <td>MALE</td>\n",
       "      <td>URP - UNCLASSIFIED REGULAR PART-TIME</td>\n",
       "      <td>02/01/20</td>\n",
       "      <td>75.96150</td>\n",
       "      <td>29.0</td>\n",
       "      <td>9545.82</td>\n",
       "      <td>114549.84</td>\n",
       "      <td>59115</td>\n",
       "      <td>True</td>\n",
       "      <td>NaN</td>\n",
       "      <td>NaN</td>\n",
       "      <td>131407.08</td>\n",
       "      <td>NaN</td>\n",
       "    </tr>\n",
       "    <tr>\n",
       "      <th>3</th>\n",
       "      <td>212</td>\n",
       "      <td>OFFICE OF COURT ADMINISTRATION                ...</td>\n",
       "      <td>SPECIA JR</td>\n",
       "      <td>JOHN</td>\n",
       "      <td>J</td>\n",
       "      <td>3524</td>\n",
       "      <td>GENERAL COUNSEL IV                            ...</td>\n",
       "      <td>WHITE</td>\n",
       "      <td>MALE</td>\n",
       "      <td>CTP - CLASSIFIED TEMPORARY PART-TIME</td>\n",
       "      <td>09/01/18</td>\n",
       "      <td>81.04453</td>\n",
       "      <td>4.0</td>\n",
       "      <td>1404.77</td>\n",
       "      <td>16857.24</td>\n",
       "      <td>59115</td>\n",
       "      <td>True</td>\n",
       "      <td>NaN</td>\n",
       "      <td>NaN</td>\n",
       "      <td>NaN</td>\n",
       "      <td>True</td>\n",
       "    </tr>\n",
       "    <tr>\n",
       "      <th>4</th>\n",
       "      <td>696</td>\n",
       "      <td>TEXAS DEPARTMENT OF CRIMINAL JUSTICE          ...</td>\n",
       "      <td>ONTIVEROS</td>\n",
       "      <td>ESTHER</td>\n",
       "      <td></td>\n",
       "      <td>4504</td>\n",
       "      <td>CORREC  OFFICER IV                            ...</td>\n",
       "      <td>HISPANIC</td>\n",
       "      <td>FEMALE</td>\n",
       "      <td>CRF - CLASSIFIED REGULAR FULL-TIME</td>\n",
       "      <td>06/29/20</td>\n",
       "      <td>0.00000</td>\n",
       "      <td>40.0</td>\n",
       "      <td>3284.27</td>\n",
       "      <td>39411.24</td>\n",
       "      <td>165030</td>\n",
       "      <td>True</td>\n",
       "      <td>1.0</td>\n",
       "      <td>NaN</td>\n",
       "      <td>NaN</td>\n",
       "      <td>NaN</td>\n",
       "    </tr>\n",
       "  </tbody>\n",
       "</table>\n",
       "</div>"
      ],
      "text/plain": [
       "   AGENCY                                        AGENCY NAME  \\\n",
       "0     241  COMPTROLLER OF PUBLIC ACCOUNTS, JUDICIARY SECT...   \n",
       "1     212  OFFICE OF COURT ADMINISTRATION                ...   \n",
       "2     241  COMPTROLLER OF PUBLIC ACCOUNTS, JUDICIARY SECT...   \n",
       "3     212  OFFICE OF COURT ADMINISTRATION                ...   \n",
       "4     696  TEXAS DEPARTMENT OF CRIMINAL JUSTICE          ...   \n",
       "\n",
       "                        LAST NAME                      FIRST NAME MI  \\\n",
       "0  RUCKER                          MORTON                          V   \n",
       "1  RUCKER                          MORTON                          V   \n",
       "2  SPECIA JR                       JOHN                            J   \n",
       "3  SPECIA JR                       JOHN                            J   \n",
       "4  ONTIVEROS                       ESTHER                              \n",
       "\n",
       "  CLASS CODE                                        CLASS TITLE  \\\n",
       "0   JD25      JUDGE, RETIRED                                ...   \n",
       "1   3524      GENERAL COUNSEL IV                            ...   \n",
       "2   JD25      JUDGE, RETIRED                                ...   \n",
       "3   3524      GENERAL COUNSEL IV                            ...   \n",
       "4   4504      CORREC  OFFICER IV                            ...   \n",
       "\n",
       "         ETHNICITY           GENDER                                    STATUS  \\\n",
       "0  WHITE            MALE             URP - UNCLASSIFIED REGULAR PART-TIME       \n",
       "1  WHITE            MALE             CTP - CLASSIFIED TEMPORARY PART-TIME       \n",
       "2  WHITE            MALE             URP - UNCLASSIFIED REGULAR PART-TIME       \n",
       "3  WHITE            MALE             CTP - CLASSIFIED TEMPORARY PART-TIME       \n",
       "4  HISPANIC         FEMALE           CRF - CLASSIFIED REGULAR FULL-TIME         \n",
       "\n",
       "  EMPLOY DATE  HRLY RATE  HRS PER WK  MONTHLY     ANNUAL  STATE NUMBER  \\\n",
       "0    02/18/88   75.96150        29.0  9545.82  114549.84        127717   \n",
       "1    02/01/15   81.04454         4.0  1404.77   16857.24        127717   \n",
       "2    02/01/20   75.96150        29.0  9545.82  114549.84         59115   \n",
       "3    09/01/18   81.04453         4.0  1404.77   16857.24         59115   \n",
       "4    06/29/20    0.00000        40.0  3284.27   39411.24        165030   \n",
       "\n",
       "  duplicated  multiple_full_time_jobs combined_multiple_jobs  \\\n",
       "0       True                      NaN                    NaN   \n",
       "1       True                      NaN                    NaN   \n",
       "2       True                      NaN                    NaN   \n",
       "3       True                      NaN                    NaN   \n",
       "4       True                      1.0                    NaN   \n",
       "\n",
       "   summed_annual_salary hide_from_search  \n",
       "0             131407.08              NaN  \n",
       "1                   NaN             True  \n",
       "2             131407.08              NaN  \n",
       "3                   NaN             True  \n",
       "4                   NaN              NaN  "
      ]
     },
     "execution_count": 23,
     "metadata": {},
     "output_type": "execute_result"
    }
   ],
   "source": [
    "sal.head()"
   ]
  },
  {
   "cell_type": "code",
   "execution_count": null,
   "metadata": {},
   "outputs": [],
   "source": []
  },
  {
   "cell_type": "markdown",
   "metadata": {},
   "source": [
    "### Removing the unwanted columns"
   ]
  },
  {
   "cell_type": "code",
   "execution_count": 24,
   "metadata": {},
   "outputs": [],
   "source": [
    "sal = sal.drop(['AGENCY', 'LAST NAME', 'FIRST NAME', 'MI', 'EMPLOY DATE','MONTHLY', 'duplicated', 'multiple_full_time_jobs', 'combined_multiple_jobs',\n",
    "       'summed_annual_salary', 'hide_from_search'], axis=1)"
   ]
  },
  {
   "cell_type": "code",
   "execution_count": 25,
   "metadata": {
    "scrolled": true
   },
   "outputs": [
    {
     "data": {
      "text/html": [
       "<div>\n",
       "<style scoped>\n",
       "    .dataframe tbody tr th:only-of-type {\n",
       "        vertical-align: middle;\n",
       "    }\n",
       "\n",
       "    .dataframe tbody tr th {\n",
       "        vertical-align: top;\n",
       "    }\n",
       "\n",
       "    .dataframe thead th {\n",
       "        text-align: right;\n",
       "    }\n",
       "</style>\n",
       "<table border=\"1\" class=\"dataframe\">\n",
       "  <thead>\n",
       "    <tr style=\"text-align: right;\">\n",
       "      <th></th>\n",
       "      <th>AGENCY NAME</th>\n",
       "      <th>CLASS CODE</th>\n",
       "      <th>CLASS TITLE</th>\n",
       "      <th>ETHNICITY</th>\n",
       "      <th>GENDER</th>\n",
       "      <th>STATUS</th>\n",
       "      <th>HRLY RATE</th>\n",
       "      <th>HRS PER WK</th>\n",
       "      <th>ANNUAL</th>\n",
       "      <th>STATE NUMBER</th>\n",
       "    </tr>\n",
       "  </thead>\n",
       "  <tbody>\n",
       "    <tr>\n",
       "      <th>0</th>\n",
       "      <td>COMPTROLLER OF PUBLIC ACCOUNTS, JUDICIARY SECT...</td>\n",
       "      <td>JD25</td>\n",
       "      <td>JUDGE, RETIRED                                ...</td>\n",
       "      <td>WHITE</td>\n",
       "      <td>MALE</td>\n",
       "      <td>URP - UNCLASSIFIED REGULAR PART-TIME</td>\n",
       "      <td>75.96150</td>\n",
       "      <td>29.0</td>\n",
       "      <td>114549.84</td>\n",
       "      <td>127717</td>\n",
       "    </tr>\n",
       "    <tr>\n",
       "      <th>1</th>\n",
       "      <td>OFFICE OF COURT ADMINISTRATION                ...</td>\n",
       "      <td>3524</td>\n",
       "      <td>GENERAL COUNSEL IV                            ...</td>\n",
       "      <td>WHITE</td>\n",
       "      <td>MALE</td>\n",
       "      <td>CTP - CLASSIFIED TEMPORARY PART-TIME</td>\n",
       "      <td>81.04454</td>\n",
       "      <td>4.0</td>\n",
       "      <td>16857.24</td>\n",
       "      <td>127717</td>\n",
       "    </tr>\n",
       "    <tr>\n",
       "      <th>2</th>\n",
       "      <td>COMPTROLLER OF PUBLIC ACCOUNTS, JUDICIARY SECT...</td>\n",
       "      <td>JD25</td>\n",
       "      <td>JUDGE, RETIRED                                ...</td>\n",
       "      <td>WHITE</td>\n",
       "      <td>MALE</td>\n",
       "      <td>URP - UNCLASSIFIED REGULAR PART-TIME</td>\n",
       "      <td>75.96150</td>\n",
       "      <td>29.0</td>\n",
       "      <td>114549.84</td>\n",
       "      <td>59115</td>\n",
       "    </tr>\n",
       "    <tr>\n",
       "      <th>3</th>\n",
       "      <td>OFFICE OF COURT ADMINISTRATION                ...</td>\n",
       "      <td>3524</td>\n",
       "      <td>GENERAL COUNSEL IV                            ...</td>\n",
       "      <td>WHITE</td>\n",
       "      <td>MALE</td>\n",
       "      <td>CTP - CLASSIFIED TEMPORARY PART-TIME</td>\n",
       "      <td>81.04453</td>\n",
       "      <td>4.0</td>\n",
       "      <td>16857.24</td>\n",
       "      <td>59115</td>\n",
       "    </tr>\n",
       "    <tr>\n",
       "      <th>4</th>\n",
       "      <td>TEXAS DEPARTMENT OF CRIMINAL JUSTICE          ...</td>\n",
       "      <td>4504</td>\n",
       "      <td>CORREC  OFFICER IV                            ...</td>\n",
       "      <td>HISPANIC</td>\n",
       "      <td>FEMALE</td>\n",
       "      <td>CRF - CLASSIFIED REGULAR FULL-TIME</td>\n",
       "      <td>0.00000</td>\n",
       "      <td>40.0</td>\n",
       "      <td>39411.24</td>\n",
       "      <td>165030</td>\n",
       "    </tr>\n",
       "  </tbody>\n",
       "</table>\n",
       "</div>"
      ],
      "text/plain": [
       "                                         AGENCY NAME CLASS CODE  \\\n",
       "0  COMPTROLLER OF PUBLIC ACCOUNTS, JUDICIARY SECT...   JD25       \n",
       "1  OFFICE OF COURT ADMINISTRATION                ...   3524       \n",
       "2  COMPTROLLER OF PUBLIC ACCOUNTS, JUDICIARY SECT...   JD25       \n",
       "3  OFFICE OF COURT ADMINISTRATION                ...   3524       \n",
       "4  TEXAS DEPARTMENT OF CRIMINAL JUSTICE          ...   4504       \n",
       "\n",
       "                                         CLASS TITLE        ETHNICITY  \\\n",
       "0  JUDGE, RETIRED                                ...  WHITE             \n",
       "1  GENERAL COUNSEL IV                            ...  WHITE             \n",
       "2  JUDGE, RETIRED                                ...  WHITE             \n",
       "3  GENERAL COUNSEL IV                            ...  WHITE             \n",
       "4  CORREC  OFFICER IV                            ...  HISPANIC          \n",
       "\n",
       "            GENDER                                    STATUS  HRLY RATE  \\\n",
       "0  MALE             URP - UNCLASSIFIED REGULAR PART-TIME       75.96150   \n",
       "1  MALE             CTP - CLASSIFIED TEMPORARY PART-TIME       81.04454   \n",
       "2  MALE             URP - UNCLASSIFIED REGULAR PART-TIME       75.96150   \n",
       "3  MALE             CTP - CLASSIFIED TEMPORARY PART-TIME       81.04453   \n",
       "4  FEMALE           CRF - CLASSIFIED REGULAR FULL-TIME          0.00000   \n",
       "\n",
       "   HRS PER WK     ANNUAL  STATE NUMBER  \n",
       "0        29.0  114549.84        127717  \n",
       "1         4.0   16857.24        127717  \n",
       "2        29.0  114549.84         59115  \n",
       "3         4.0   16857.24         59115  \n",
       "4        40.0   39411.24        165030  "
      ]
     },
     "execution_count": 25,
     "metadata": {},
     "output_type": "execute_result"
    }
   ],
   "source": [
    "sal.head()"
   ]
  },
  {
   "cell_type": "markdown",
   "metadata": {},
   "source": [
    "### Converting the Categorical values into Numerical values"
   ]
  },
  {
   "cell_type": "markdown",
   "metadata": {},
   "source": [
    "#### Label-Encoding"
   ]
  },
  {
   "cell_type": "code",
   "execution_count": 26,
   "metadata": {},
   "outputs": [
    {
     "data": {
      "text/plain": [
       "['AGENCY NAME', 'CLASS CODE', 'CLASS TITLE', 'ETHNICITY', 'GENDER', 'STATUS']"
      ]
     },
     "execution_count": 26,
     "metadata": {},
     "output_type": "execute_result"
    }
   ],
   "source": [
    "colname = []\n",
    "\n",
    "for i in sal.columns:\n",
    "    if sal[i].dtypes=='object':\n",
    "        colname.append(i)\n",
    "        \n",
    "colname"
   ]
  },
  {
   "cell_type": "code",
   "execution_count": 27,
   "metadata": {},
   "outputs": [],
   "source": [
    "from sklearn import preprocessing\n",
    "\n",
    "le = preprocessing.LabelEncoder()\n",
    "\n",
    "\n",
    "for x in colname:\n",
    "    sal[x] = le.fit_transform(sal[x])"
   ]
  },
  {
   "cell_type": "code",
   "execution_count": 28,
   "metadata": {},
   "outputs": [
    {
     "data": {
      "text/html": [
       "<div>\n",
       "<style scoped>\n",
       "    .dataframe tbody tr th:only-of-type {\n",
       "        vertical-align: middle;\n",
       "    }\n",
       "\n",
       "    .dataframe tbody tr th {\n",
       "        vertical-align: top;\n",
       "    }\n",
       "\n",
       "    .dataframe thead th {\n",
       "        text-align: right;\n",
       "    }\n",
       "</style>\n",
       "<table border=\"1\" class=\"dataframe\">\n",
       "  <thead>\n",
       "    <tr style=\"text-align: right;\">\n",
       "      <th></th>\n",
       "      <th>AGENCY NAME</th>\n",
       "      <th>CLASS CODE</th>\n",
       "      <th>CLASS TITLE</th>\n",
       "      <th>ETHNICITY</th>\n",
       "      <th>GENDER</th>\n",
       "      <th>STATUS</th>\n",
       "      <th>HRLY RATE</th>\n",
       "      <th>HRS PER WK</th>\n",
       "      <th>ANNUAL</th>\n",
       "      <th>STATE NUMBER</th>\n",
       "    </tr>\n",
       "  </thead>\n",
       "  <tbody>\n",
       "    <tr>\n",
       "      <th>0</th>\n",
       "      <td>17</td>\n",
       "      <td>1409</td>\n",
       "      <td>711</td>\n",
       "      <td>5</td>\n",
       "      <td>1</td>\n",
       "      <td>8</td>\n",
       "      <td>75.96150</td>\n",
       "      <td>29.0</td>\n",
       "      <td>114549.84</td>\n",
       "      <td>127717</td>\n",
       "    </tr>\n",
       "    <tr>\n",
       "      <th>1</th>\n",
       "      <td>48</td>\n",
       "      <td>616</td>\n",
       "      <td>560</td>\n",
       "      <td>5</td>\n",
       "      <td>1</td>\n",
       "      <td>4</td>\n",
       "      <td>81.04454</td>\n",
       "      <td>4.0</td>\n",
       "      <td>16857.24</td>\n",
       "      <td>127717</td>\n",
       "    </tr>\n",
       "    <tr>\n",
       "      <th>2</th>\n",
       "      <td>17</td>\n",
       "      <td>1409</td>\n",
       "      <td>711</td>\n",
       "      <td>5</td>\n",
       "      <td>1</td>\n",
       "      <td>8</td>\n",
       "      <td>75.96150</td>\n",
       "      <td>29.0</td>\n",
       "      <td>114549.84</td>\n",
       "      <td>59115</td>\n",
       "    </tr>\n",
       "    <tr>\n",
       "      <th>3</th>\n",
       "      <td>48</td>\n",
       "      <td>616</td>\n",
       "      <td>560</td>\n",
       "      <td>5</td>\n",
       "      <td>1</td>\n",
       "      <td>4</td>\n",
       "      <td>81.04453</td>\n",
       "      <td>4.0</td>\n",
       "      <td>16857.24</td>\n",
       "      <td>59115</td>\n",
       "    </tr>\n",
       "    <tr>\n",
       "      <th>4</th>\n",
       "      <td>88</td>\n",
       "      <td>810</td>\n",
       "      <td>292</td>\n",
       "      <td>3</td>\n",
       "      <td>0</td>\n",
       "      <td>0</td>\n",
       "      <td>0.00000</td>\n",
       "      <td>40.0</td>\n",
       "      <td>39411.24</td>\n",
       "      <td>165030</td>\n",
       "    </tr>\n",
       "  </tbody>\n",
       "</table>\n",
       "</div>"
      ],
      "text/plain": [
       "   AGENCY NAME  CLASS CODE  CLASS TITLE  ETHNICITY  GENDER  STATUS  HRLY RATE  \\\n",
       "0           17        1409          711          5       1       8   75.96150   \n",
       "1           48         616          560          5       1       4   81.04454   \n",
       "2           17        1409          711          5       1       8   75.96150   \n",
       "3           48         616          560          5       1       4   81.04453   \n",
       "4           88         810          292          3       0       0    0.00000   \n",
       "\n",
       "   HRS PER WK     ANNUAL  STATE NUMBER  \n",
       "0        29.0  114549.84        127717  \n",
       "1         4.0   16857.24        127717  \n",
       "2        29.0  114549.84         59115  \n",
       "3         4.0   16857.24         59115  \n",
       "4        40.0   39411.24        165030  "
      ]
     },
     "execution_count": 28,
     "metadata": {},
     "output_type": "execute_result"
    }
   ],
   "source": [
    "sal.head()"
   ]
  },
  {
   "cell_type": "code",
   "execution_count": 29,
   "metadata": {},
   "outputs": [],
   "source": [
    "x = sal.drop(['ANNUAL'],1)\n",
    "y = sal['ANNUAL']"
   ]
  },
  {
   "cell_type": "code",
   "execution_count": 30,
   "metadata": {
    "scrolled": false
   },
   "outputs": [
    {
     "data": {
      "text/plain": [
       "<AxesSubplot:>"
      ]
     },
     "execution_count": 30,
     "metadata": {},
     "output_type": "execute_result"
    },
    {
     "data": {
      "image/png": "[encoded data removed]",
      "text/plain": [
       "<Figure size 720x648 with 2 Axes>"
      ]
     },
     "metadata": {
      "needs_background": "light"
     },
     "output_type": "display_data"
    }
   ],
   "source": [
    "corr = x.corr(method='pearson')\n",
    "\n",
    "plt.figure(figsize=(10,9))\n",
    "sns.heatmap(corr, vmax=1.0, vmin=-1.0, annot=True)"
   ]
  },
  {
   "cell_type": "markdown",
   "metadata": {},
   "source": [
    "### Splitting the dataset"
   ]
  },
  {
   "cell_type": "code",
   "execution_count": 31,
   "metadata": {},
   "outputs": [],
   "source": [
    "from sklearn.model_selection import train_test_split\n",
    "\n",
    "# splitting the data into train and test\n",
    "x_train, x_test, y_train, y_test = train_test_split(x,y, test_size=0.3, random_state=10)"
   ]
  },
  {
   "cell_type": "code",
   "execution_count": 32,
   "metadata": {},
   "outputs": [],
   "source": [
    "from sklearn.preprocessing import StandardScaler\n",
    "\n",
    "scaler = StandardScaler()\n",
    "\n",
    "scaler.fit(x_train)\n",
    "\n",
    "x_train = scaler.transform(x_train)\n",
    "x_test = scaler.transform(x_test)"
   ]
  },
  {
   "cell_type": "markdown",
   "metadata": {},
   "source": [
    "### Building the Predictive Models"
   ]
  },
  {
   "cell_type": "markdown",
   "metadata": {},
   "source": [
    "#### Linear Regression"
   ]
  },
  {
   "cell_type": "code",
   "execution_count": 33,
   "metadata": {},
   "outputs": [
    {
     "data": {
      "text/plain": [
       "LinearRegression(copy_X=True, fit_intercept=True, n_jobs=None, normalize=False)"
      ]
     },
     "execution_count": 33,
     "metadata": {},
     "output_type": "execute_result"
    }
   ],
   "source": [
    "from sklearn.linear_model import LinearRegression\n",
    "\n",
    "\n",
    "lm = LinearRegression()\n",
    "\n",
    "\n",
    "lm.fit(x_train, y_train)"
   ]
  },
  {
   "cell_type": "code",
   "execution_count": 34,
   "metadata": {},
   "outputs": [],
   "source": [
    "y_pred = lm.predict(x_test)"
   ]
  },
  {
   "cell_type": "code",
   "execution_count": 35,
   "metadata": {},
   "outputs": [
    {
     "name": "stdout",
     "output_type": "stream",
     "text": [
      "r2: 0.1915122988577025\n"
     ]
    }
   ],
   "source": [
    "from sklearn.metrics import r2_score, mean_squared_error\n",
    "\n",
    "r2_lr = r2_score(y_test, y_pred)\n",
    "print('r2:',r2_lr)"
   ]
  },
  {
   "cell_type": "markdown",
   "metadata": {},
   "source": [
    "#### K-Nearest Neighbours"
   ]
  },
  {
   "cell_type": "code",
   "execution_count": 36,
   "metadata": {},
   "outputs": [
    {
     "data": {
      "text/plain": [
       "KNeighborsRegressor(algorithm='auto', leaf_size=30, metric='euclidean',\n",
       "                    metric_params=None, n_jobs=None, n_neighbors=323, p=2,\n",
       "                    weights='uniform')"
      ]
     },
     "execution_count": 36,
     "metadata": {},
     "output_type": "execute_result"
    }
   ],
   "source": [
    "from sklearn.neighbors import KNeighborsRegressor\n",
    "\n",
    "knn = KNeighborsRegressor(n_neighbors=int(np.sqrt(len(x_train))), \n",
    "                                 metric='euclidean')\n",
    "\n",
    "knn.fit(x_train,y_train)"
   ]
  },
  {
   "cell_type": "code",
   "execution_count": 37,
   "metadata": {},
   "outputs": [],
   "source": [
    "y_pred = knn.predict(x_test)"
   ]
  },
  {
   "cell_type": "code",
   "execution_count": 38,
   "metadata": {},
   "outputs": [
    {
     "name": "stdout",
     "output_type": "stream",
     "text": [
      "r2: 0.49256091080459774\n"
     ]
    }
   ],
   "source": [
    "from sklearn.metrics import r2_score, mean_squared_error\n",
    "\n",
    "r2_knn = r2_score(y_test, y_pred)\n",
    "print('r2:',r2_knn)"
   ]
  },
  {
   "cell_type": "markdown",
   "metadata": {},
   "source": [
    "#### Decision Tree"
   ]
  },
  {
   "cell_type": "code",
   "execution_count": 39,
   "metadata": {},
   "outputs": [
    {
     "data": {
      "text/plain": [
       "DecisionTreeRegressor(ccp_alpha=0.0, criterion='mse', max_depth=None,\n",
       "                      max_features=None, max_leaf_nodes=None,\n",
       "                      min_impurity_decrease=0.0, min_impurity_split=None,\n",
       "                      min_samples_leaf=1, min_samples_split=2,\n",
       "                      min_weight_fraction_leaf=0.0, presort='deprecated',\n",
       "                      random_state=10, splitter='best')"
      ]
     },
     "execution_count": 39,
     "metadata": {},
     "output_type": "execute_result"
    }
   ],
   "source": [
    "from sklearn.tree import DecisionTreeRegressor\n",
    "\n",
    "dt = DecisionTreeRegressor(random_state=10)\n",
    "\n",
    "dt.fit(x_train, y_train)"
   ]
  },
  {
   "cell_type": "code",
   "execution_count": 40,
   "metadata": {},
   "outputs": [],
   "source": [
    "y_pred = dt.predict(x_test)"
   ]
  },
  {
   "cell_type": "code",
   "execution_count": 41,
   "metadata": {},
   "outputs": [
    {
     "name": "stdout",
     "output_type": "stream",
     "text": [
      "r2: 0.9079810278903522\n"
     ]
    }
   ],
   "source": [
    "from sklearn.metrics import r2_score, mean_squared_error\n",
    "\n",
    "r2_dt = r2_score(y_test, y_pred)\n",
    "print('r2:',r2_dt)"
   ]
  },
  {
   "cell_type": "markdown",
   "metadata": {},
   "source": [
    "#### Random Forest"
   ]
  },
  {
   "cell_type": "code",
   "execution_count": 43,
   "metadata": {},
   "outputs": [],
   "source": [
    "from sklearn.ensemble import RandomForestRegressor\n",
    "\n",
    "rf = RandomForestRegressor(random_state=10)\n",
    "\n",
    "rf = rf.fit(x_train, y_train)"
   ]
  },
  {
   "cell_type": "code",
   "execution_count": 44,
   "metadata": {},
   "outputs": [],
   "source": [
    "y_pred = rf.predict(x_test)"
   ]
  },
  {
   "cell_type": "code",
   "execution_count": 45,
   "metadata": {},
   "outputs": [
    {
     "name": "stdout",
     "output_type": "stream",
     "text": [
      "r2: 0.9393944396254791\n"
     ]
    }
   ],
   "source": [
    "from sklearn.metrics import r2_score, mean_squared_error\n",
    "\n",
    "r2_rf = r2_score(y_test, y_pred)\n",
    "print('r2:',r2_rf)"
   ]
  },
  {
   "cell_type": "markdown",
   "metadata": {},
   "source": [
    "#### XGBoost "
   ]
  },
  {
   "cell_type": "code",
   "execution_count": 46,
   "metadata": {
    "scrolled": true
   },
   "outputs": [
    {
     "data": {
      "text/plain": [
       "XGBRegressor(base_score=0.5, booster='gbtree', callbacks=None,\n",
       "             colsample_bylevel=1, colsample_bynode=1, colsample_bytree=1,\n",
       "             early_stopping_rounds=None, enable_categorical=False,\n",
       "             eval_metric=None, gamma=0, gpu_id=-1, grow_policy='depthwise',\n",
       "             importance_type=None, interaction_constraints='',\n",
       "             learning_rate=0.300000012, max_bin=256, max_cat_to_onehot=4,\n",
       "             max_delta_step=0, max_depth=6, max_leaves=0, min_child_weight=1,\n",
       "             missing=nan, monotone_constraints='()', n_estimators=100, n_jobs=0,\n",
       "             num_parallel_tree=1, objective='reg:squarederror',\n",
       "             predictor='auto', random_state=0, reg_alpha=0, ...)"
      ]
     },
     "execution_count": 46,
     "metadata": {},
     "output_type": "execute_result"
    }
   ],
   "source": [
    "from xgboost import XGBRegressor\n",
    "\n",
    "xgb = XGBRegressor()\n",
    "xgb.fit(x_train, y_train)"
   ]
  },
  {
   "cell_type": "code",
   "execution_count": 47,
   "metadata": {},
   "outputs": [],
   "source": [
    "y_pred = xgb.predict(x_test)"
   ]
  },
  {
   "cell_type": "code",
   "execution_count": 48,
   "metadata": {},
   "outputs": [
    {
     "name": "stdout",
     "output_type": "stream",
     "text": [
      "r2: 0.9352488900506652\n"
     ]
    }
   ],
   "source": [
    "from sklearn.metrics import r2_score\n",
    "\n",
    "r2_xgb = r2_score(y_test, y_pred)\n",
    "print('r2:',r2_xgb)"
   ]
  },
  {
   "cell_type": "code",
   "execution_count": null,
   "metadata": {},
   "outputs": [],
   "source": []
  },
  {
   "cell_type": "code",
   "execution_count": 49,
   "metadata": {},
   "outputs": [
    {
     "name": "stdout",
     "output_type": "stream",
     "text": [
      "The R-squared value for: \n",
      "Linear Regression: 0.1915122988577025 \n",
      "K-Nearest Neighbours: 0.49256091080459774 \n",
      "Decision Tree: 0.9079810278903522 \n",
      "Random Forest: 0.9393944396254791 \n",
      "XGBoost: 0.9352488900506652\n"
     ]
    }
   ],
   "source": [
    "print(f\"The R-squared value for: \\nLinear Regression: {r2_lr} \\nK-Nearest Neighbours: {r2_knn} \\nDecision Tree: {r2_dt} \\nRandom Forest: {r2_rf} \\nXGBoost: {r2_xgb}\")"
   ]
  },
  {
   "cell_type": "markdown",
   "metadata": {},
   "source": [
    "<div class=\"alert alert-block alert-success\">\n",
    "    <b>Among the 5 models that were used, namely Linear Regression, K-Nearest Neighbours, Decision Tree, Random Forest, and XGBoost, with a score of 0.93, we may conclude that the \"Random Forest\" and \"XGBoost\" models are the best suited regressor models for precise salary prediction \n",
    "</div>"
   ]
  }
 ],
 "metadata": {
  "kernelspec": {
   "display_name": "Python 3",
   "language": "python",
   "name": "python3"
  },
  "language_info": {
   "codemirror_mode": {
    "name": "ipython",
    "version": 3
   },
   "file_extension": ".py",
   "mimetype": "text/x-python",
   "name": "python",
   "nbconvert_exporter": "python",
   "pygments_lexer": "ipython3",
   "version": "3.7.6"
  }
 },
 "nbformat": 4,
 "nbformat_minor": 4
}
